{
 "cells": [
  {
   "cell_type": "code",
   "execution_count": 0,
   "metadata": {
    "application/vnd.databricks.v1+cell": {
     "cellMetadata": {
      "byteLimit": 2048000,
      "rowLimit": 10000
     },
     "inputWidgets": {},
     "nuid": "2638ba2c-39d4-4eac-9804-0dea629921d5",
     "showTitle": false,
     "tableResultSettingsMap": {},
     "title": ""
    }
   },
   "outputs": [],
   "source": [
    "from pyspark.sql import functions as F\n",
    "from delta.tables import DeltaTable\n",
    "from datetime import datetime\n",
    "from pyspark.sql.functions import current_date, lit"
   ]
  },
  {
   "cell_type": "code",
   "execution_count": 0,
   "metadata": {
    "application/vnd.databricks.v1+cell": {
     "cellMetadata": {
      "byteLimit": 2048000,
      "rowLimit": 10000
     },
     "inputWidgets": {},
     "nuid": "a0db3907-8296-47ae-a65b-9f2a6c3b536e",
     "showTitle": false,
     "tableResultSettingsMap": {
      "0": {
       "dataGridStateBlob": "{\"version\":1,\"tableState\":{\"columnPinning\":{\"left\":[\"#row_number#\"],\"right\":[]},\"columnSizing\":{},\"columnVisibility\":{}},\"settings\":{\"columns\":{}},\"syncTimestamp\":1758930155083}",
       "filterBlob": null,
       "queryPlanFiltersBlob": null,
       "tableResultIndex": 0
      }
     },
     "title": ""
    }
   },
   "outputs": [],
   "source": [
    "df_reservas = (\n",
    "    spark.read.table(\"production.raw.raw_tb_reservas\")\n",
    "    .select(\n",
    "        F.col(\"reserva_id\"),\n",
    "        F.col(\"hospede_id\"),\n",
    "        F.col(\"quarto_id\"),\n",
    "        F.col(\"hotel_id\"),\n",
    "        F.col(\"data_reserva\"),\n",
    "        F.col(\"data_checkin\"),\n",
    "        F.col(\"data_checkout\"),\n",
    "        F.col(\"numero_noites\"),\n",
    "        F.col(\"canal_reserva\"),\n",
    "        F.col(\"status\"),\n",
    "        F.round(F.col(\"valor_total\"), 2).alias(\"valor_total\"),\n",
    "        F.col(\"observacoes\")\n",
    "    )\n",
    "    .withColumn(\"data_reserva\", F.to_date(F.col(\"data_reserva\")))\n",
    "    .withColumn(\"data_checkin\", F.to_date(F.col(\"data_checkin\")))\n",
    "    .withColumn(\"data_checkout\", F.to_date(F.col(\"data_checkout\")))\n",
    "    .withColumn(\"start_date\", F.current_date())\n",
    "    .withColumn(\"update_date\", F.lit(None).cast(\"date\"))\n",
    ")\n",
    "\n",
    "display(df_reservas.limit(5))"
   ]
  },
  {
   "cell_type": "code",
   "execution_count": 0,
   "metadata": {
    "application/vnd.databricks.v1+cell": {
     "cellMetadata": {
      "byteLimit": 2048000,
      "rowLimit": 10000
     },
     "inputWidgets": {},
     "nuid": "27a1b2ef-cbcd-44da-9189-1ee6262ce207",
     "showTitle": false,
     "tableResultSettingsMap": {
      "0": {
       "dataGridStateBlob": "{\"version\":1,\"tableState\":{\"columnPinning\":{\"left\":[\"#row_number#\"],\"right\":[]},\"columnSizing\":{},\"columnVisibility\":{}},\"settings\":{\"columns\":{}},\"syncTimestamp\":1759607885950}",
       "filterBlob": null,
       "queryPlanFiltersBlob": null,
       "tableResultIndex": 0
      }
     },
     "title": ""
    }
   },
   "outputs": [],
   "source": [
    "df_reservas_canal = (\n",
    "    spark.read.table(\"production.raw.raw_tb_reservas_canal\")\n",
    "    .select(\n",
    "        F.col(\"reserva_canal_id\"),\n",
    "        F.col(\"reserva_id\"),\n",
    "        F.col(\"canal_reserva\").alias(\"canal_reserva_canal\"),\n",
    "        F.col(\"fonte_reserva\"),\n",
    "        F.col(\"percentual_comissao\"),\n",
    "        F.col(\"data_reserva\").alias(\"data_reserva_canal\")\n",
    "    )\n",
    "    .withColumn(\"data_reserva_canal\", F.to_date(F.col(\"data_reserva_canal\")))\n",
    ")\n",
    "\n",
    "display(df_reservas_canal.limit(5))"
   ]
  },
  {
   "cell_type": "code",
   "execution_count": 0,
   "metadata": {
    "application/vnd.databricks.v1+cell": {
     "cellMetadata": {
      "byteLimit": 2048000,
      "rowLimit": 10000
     },
     "inputWidgets": {},
     "nuid": "ab4fc63e-2372-42d7-bfaf-85b704c9f2aa",
     "showTitle": false,
     "tableResultSettingsMap": {},
     "title": ""
    }
   },
   "outputs": [],
   "source": [
    "df_reservas = (\n",
    "    df_reservas.join(df_reservas_canal, [\"reserva_id\"], \"left\")\n",
    ")"
   ]
  },
  {
   "cell_type": "code",
   "execution_count": 0,
   "metadata": {
    "application/vnd.databricks.v1+cell": {
     "cellMetadata": {
      "byteLimit": 2048000,
      "rowLimit": 10000
     },
     "inputWidgets": {},
     "nuid": "ee3b4615-8530-4e42-b077-eaaff9600ac2",
     "showTitle": false,
     "tableResultSettingsMap": {},
     "title": ""
    }
   },
   "outputs": [],
   "source": [
    "# Partindo do seu DataFrame 'df_reservas' que já contém os dados do join\n",
    "df_reservas = (\n",
    "    df_reservas\n",
    "    \n",
    "    # Cria a coluna 'antecedencia_dias' calculando a diferença em dias entre as datas\n",
    "    .withColumn(\n",
    "        \"antecedencia_dias\", \n",
    "        F.datediff(F.col(\"data_checkin\"), F.col(\"data_reserva\"))\n",
    "    )\n",
    "    \n",
    "    # Cria a coluna 'valor_comissao' calculando o valor monetário da comissão\n",
    "    .withColumn(\n",
    "        \"valor_comissao\", \n",
    "        F.round(F.col(\"valor_total\") * (F.col(\"percentual_comissao\") / 100), 2)\n",
    "    )\n",
    ")"
   ]
  },
  {
   "cell_type": "code",
   "execution_count": 0,
   "metadata": {
    "application/vnd.databricks.v1+cell": {
     "cellMetadata": {
      "byteLimit": 2048000,
      "rowLimit": 10000
     },
     "inputWidgets": {},
     "nuid": "a23c5059-378e-4f59-90fb-74298e4e4e56",
     "showTitle": false,
     "tableResultSettingsMap": {},
     "title": ""
    }
   },
   "outputs": [],
   "source": [
    "catalog_table = \"production.trusted.tb_reservas\"\n",
    "\n",
    "if spark.catalog.tableExists(catalog_table):\n",
    "    delta_table = DeltaTable.forName(spark, catalog_table)\n",
    "    \n",
    "    # Merge (upsert) com atualização da update_date\n",
    "    delta_table.alias(\"target\").merge(\n",
    "        df_reservas.alias(\"source\"),\n",
    "        \"target.reserva_id = source.reserva_id\"\n",
    "    ).whenMatchedUpdate(\n",
    "        set = {\n",
    "            **{col: f\"source.{col}\" for col in df_reservas.columns if col != \"update_date\"},\n",
    "            \"update_date\": \"current_date()\"\n",
    "        }\n",
    "    ).whenNotMatchedInsertAll() \\\n",
    "     .execute()\n",
    "else:\n",
    "    # Se não existir, cria a tabela Delta incluindo a update_date\n",
    "    (\n",
    "        df_reservas\n",
    "        .withColumn(\"update_date\", lit(\"\"))\n",
    "        .write\n",
    "        .format(\"delta\")\n",
    "        .saveAsTable(catalog_table)\n",
    "    )"
   ]
  }
 ],
 "metadata": {
  "application/vnd.databricks.v1+notebook": {
   "computePreferences": null,
   "dashboards": [],
   "environmentMetadata": {
    "base_environment": "",
    "environment_version": "3"
   },
   "inputWidgetPreferences": null,
   "language": "python",
   "notebookMetadata": {
    "mostRecentlyExecutedCommandWithImplicitDF": {
     "commandId": 5150682532233924,
     "dataframes": [
      "_sqldf"
     ]
    },
    "pythonIndentUnit": 4
   },
   "notebookName": "tb_reservas",
   "widgets": {}
  },
  "language_info": {
   "name": "python"
  }
 },
 "nbformat": 4,
 "nbformat_minor": 0
}
