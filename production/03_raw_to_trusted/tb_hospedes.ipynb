{
 "cells": [
  {
   "cell_type": "code",
   "execution_count": 0,
   "metadata": {
    "application/vnd.databricks.v1+cell": {
     "cellMetadata": {
      "byteLimit": 2048000,
      "rowLimit": 10000
     },
     "inputWidgets": {},
     "nuid": "2638ba2c-39d4-4eac-9804-0dea629921d5",
     "showTitle": false,
     "tableResultSettingsMap": {},
     "title": ""
    }
   },
   "outputs": [],
   "source": [
    "from pyspark.sql import functions as F\n",
    "from delta.tables import DeltaTable\n",
    "from datetime import datetime\n",
    "from pyspark.sql.functions import current_date, lit"
   ]
  },
  {
   "cell_type": "code",
   "execution_count": 0,
   "metadata": {
    "application/vnd.databricks.v1+cell": {
     "cellMetadata": {
      "byteLimit": 2048000,
      "rowLimit": 10000
     },
     "inputWidgets": {},
     "nuid": "a0db3907-8296-47ae-a65b-9f2a6c3b536e",
     "showTitle": false,
     "tableResultSettingsMap": {
      "0": {
       "dataGridStateBlob": "{\"version\":1,\"tableState\":{\"columnPinning\":{\"left\":[\"#row_number#\"],\"right\":[]},\"columnSizing\":{},\"columnVisibility\":{}},\"settings\":{\"columns\":{}},\"syncTimestamp\":1758930155083}",
       "filterBlob": null,
       "queryPlanFiltersBlob": null,
       "tableResultIndex": 0
      }
     },
     "title": ""
    }
   },
   "outputs": [],
   "source": [
    "df_hospedes = (\n",
    "    spark.read.table(\"production.raw.raw_tb_hospedes\")\n",
    "    .select(\n",
    "        F.col(\"hospede_id\"),\n",
    "        F.col(\"nome_registro\"),\n",
    "        F.col(\"nome_social\"),\n",
    "        F.col(\"cpf\"),\n",
    "        F.col(\"data_nascimento\"),\n",
    "        F.col(\"sexo_atribuido_nascimento\"),\n",
    "        F.col(\"identidade_genero\"),\n",
    "        F.col(\"pronome\"),\n",
    "        F.col(\"orientacao_sexual\"),\n",
    "        F.col(\"nacionalidade\"),\n",
    "        F.col(\"tipo_cliente\"),\n",
    "        F.col(\"email\"),\n",
    "        F.col(\"telefone\"),\n",
    "        F.col(\"estado\"),\n",
    "        F.col(\"cidade\"),\n",
    "        F.col(\"cep\")\n",
    "    )\n",
    "    .withColumn(\"data_nascimento\", F.to_date(F.col(\"data_nascimento\")))\n",
    "    .withColumn(\"idade\", (F.datediff(F.current_date(), F.col(\"data_nascimento\")) / 365).cast(\"integer\"))\n",
    "    .withColumn(\"start_date\", F.current_date())\n",
    "    .withColumn(\"update_date\", F.lit(None).cast(\"date\"))\n",
    ")\n",
    "\n",
    "display(df_hospedes.limit(5))"
   ]
  },
  {
   "cell_type": "code",
   "execution_count": 0,
   "metadata": {
    "application/vnd.databricks.v1+cell": {
     "cellMetadata": {
      "byteLimit": 2048000,
      "rowLimit": 10000
     },
     "inputWidgets": {},
     "nuid": "c39a3f93-7743-4510-8753-700c7b03ea21",
     "showTitle": false,
     "tableResultSettingsMap": {},
     "title": ""
    }
   },
   "outputs": [],
   "source": [
    "df_geolocalizacao = (\n",
    "    spark.read.table(\"production.raw.raw_geolocalizacao_ceps\")\n",
    "    .select(\n",
    "        F.col(\"cep\"),\n",
    "        F.col(\"latitude\"),\n",
    "        F.col(\"longitude\")\n",
    "    )\n",
    ")\n",
    "display(df_geolocalizacao.limit(5))"
   ]
  },
  {
   "cell_type": "code",
   "execution_count": 0,
   "metadata": {
    "application/vnd.databricks.v1+cell": {
     "cellMetadata": {
      "byteLimit": 2048000,
      "rowLimit": 10000
     },
     "inputWidgets": {},
     "nuid": "0542dd43-072b-44a1-9843-94c4efbb4e0e",
     "showTitle": false,
     "tableResultSettingsMap": {},
     "title": ""
    }
   },
   "outputs": [],
   "source": [
    "df_hospedes = (\n",
    "    df_hospedes.join(df_geolocalizacao, on=\"cep\", how=\"left\")\n",
    ")"
   ]
  },
  {
   "cell_type": "code",
   "execution_count": 0,
   "metadata": {
    "application/vnd.databricks.v1+cell": {
     "cellMetadata": {
      "byteLimit": 2048000,
      "rowLimit": 10000
     },
     "inputWidgets": {},
     "nuid": "a23c5059-378e-4f59-90fb-74298e4e4e56",
     "showTitle": false,
     "tableResultSettingsMap": {},
     "title": ""
    }
   },
   "outputs": [],
   "source": [
    "catalog_table = \"production.trusted.tb_hospedes\"\n",
    "\n",
    "if spark.catalog.tableExists(catalog_table):\n",
    "    delta_table = DeltaTable.forName(spark, catalog_table)\n",
    "    \n",
    "    # Merge (upsert) com atualização da update_date\n",
    "    delta_table.alias(\"target\").merge(\n",
    "        df_hospedes.alias(\"source\"),\n",
    "        \"target.consumo_id = source.consumo_id\"\n",
    "    ).whenMatchedUpdate(\n",
    "        set = {\n",
    "            **{col: f\"source.{col}\" for col in df_hospedes.columns if col != \"update_date\"},\n",
    "            \"update_date\": \"current_date()\"\n",
    "        }\n",
    "    ).whenNotMatchedInsertAll() \\\n",
    "     .execute()\n",
    "else:\n",
    "    # Se não existir, cria a tabela Delta incluindo a update_date\n",
    "    (\n",
    "        df_hospedes\n",
    "        .withColumn(\"update_date\", lit(\"\"))\n",
    "        .write\n",
    "        .format(\"delta\")\n",
    "        .saveAsTable(catalog_table)\n",
    "    )"
   ]
  }
 ],
 "metadata": {
  "application/vnd.databricks.v1+notebook": {
   "computePreferences": null,
   "dashboards": [],
   "environmentMetadata": {
    "base_environment": "",
    "environment_version": "3"
   },
   "inputWidgetPreferences": null,
   "language": "python",
   "notebookMetadata": {
    "mostRecentlyExecutedCommandWithImplicitDF": {
     "commandId": 5150682532233917,
     "dataframes": [
      "_sqldf"
     ]
    },
    "pythonIndentUnit": 4
   },
   "notebookName": "tb_hospedes",
   "widgets": {}
  },
  "language_info": {
   "name": "python"
  }
 },
 "nbformat": 4,
 "nbformat_minor": 0
}
