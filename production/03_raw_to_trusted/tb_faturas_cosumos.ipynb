{
 "cells": [
  {
   "cell_type": "code",
   "execution_count": 0,
   "metadata": {
    "application/vnd.databricks.v1+cell": {
     "cellMetadata": {
      "byteLimit": 2048000,
      "rowLimit": 10000
     },
     "inputWidgets": {},
     "nuid": "2638ba2c-39d4-4eac-9804-0dea629921d5",
     "showTitle": false,
     "tableResultSettingsMap": {},
     "title": ""
    }
   },
   "outputs": [],
   "source": [
    "from pyspark.sql import functions as F\n",
    "from delta.tables import DeltaTable\n",
    "from pyspark.sql.functions import current_date, lit"
   ]
  },
  {
   "cell_type": "code",
   "execution_count": 0,
   "metadata": {
    "application/vnd.databricks.v1+cell": {
     "cellMetadata": {
      "byteLimit": 2048000,
      "rowLimit": 10000
     },
     "inputWidgets": {},
     "nuid": "a0db3907-8296-47ae-a65b-9f2a6c3b536e",
     "showTitle": false,
     "tableResultSettingsMap": {
      "0": {
       "dataGridStateBlob": "{\"version\":1,\"tableState\":{\"columnPinning\":{\"left\":[\"#row_number#\"],\"right\":[]},\"columnSizing\":{},\"columnVisibility\":{}},\"settings\":{\"columns\":{}},\"syncTimestamp\":1758930155083}",
       "filterBlob": null,
       "queryPlanFiltersBlob": null,
       "tableResultIndex": 0
      }
     },
     "title": ""
    }
   },
   "outputs": [],
   "source": [
    "df_consumos = (\n",
    "    spark.read.table(\"production.raw.raw_tb_consumos\")\n",
    "    .select(\n",
    "        F.col(\"consumo_id\"),\n",
    "        F.col(\"reserva_id\"),\n",
    "        F.col(\"hospede_id\"),\n",
    "        F.col(\"hotel_id\"),\n",
    "        F.col(\"quarto_id\"),\n",
    "        F.col(\"data_consumo\"),\n",
    "        F.col(\"tipo_servico\"),\n",
    "        F.col(\"descricao\"),\n",
    "        F.round(F.col(\"valor\").cast(\"double\"), 2).alias(\"valor\"),  \n",
    "        F.col(\"pago\")\n",
    "    )\n",
    "    .withColumn(\"data_consumo\", F.to_date(F.col(\"data_consumo\")))\n",
    "    .withColumn(\"start_date\", F.current_date())\n",
    "    .withColumn(\"update_date\", F.lit(None).cast(\"date\"))\n",
    ")\n",
    "\n",
    "display(df_consumos.limit(5))\n"
   ]
  },
  {
   "cell_type": "code",
   "execution_count": 0,
   "metadata": {
    "application/vnd.databricks.v1+cell": {
     "cellMetadata": {
      "byteLimit": 2048000,
      "rowLimit": 10000
     },
     "inputWidgets": {},
     "nuid": "1290dc58-874f-4fe3-b841-1954bba2a4e7",
     "showTitle": false,
     "tableResultSettingsMap": {
      "0": {
       "dataGridStateBlob": "{\"version\":1,\"tableState\":{\"columnPinning\":{\"left\":[\"#row_number#\"],\"right\":[]},\"columnSizing\":{},\"columnVisibility\":{}},\"settings\":{\"columns\":{}},\"syncTimestamp\":1759592488774}",
       "filterBlob": null,
       "queryPlanFiltersBlob": null,
       "tableResultIndex": 0
      }
     },
     "title": ""
    }
   },
   "outputs": [],
   "source": [
    "df_faturas = (\n",
    "    spark.read.table(\"production.raw.raw_tb_faturas\")\n",
    "    .select(\n",
    "        F.col(\"fatura_id\"),\n",
    "        F.col(\"reserva_id\"),\n",
    "        F.col(\"hotel_id\"),\n",
    "        F.col(\"data_emissao\"),\n",
    "        F.col(\"data_vencimento\"),\n",
    "        F.col(\"data_pagamento\"),\n",
    "        F.round(F.col(\"valor_diarias\").cast(\"double\"), 2).alias(\"valor_diarias\"),  \n",
    "        F.round(F.col(\"subtotal_consumos\").cast(\"double\"), 2).alias(\"subtotal_consumos\"),  \n",
    "        F.round(F.col(\"impostos\").cast(\"double\"), 2).alias(\"impostos\"),\n",
    "        F.round(F.col(\"valor_total\").cast(\"double\"), 2).alias(\"valor_total\"),\n",
    "        F.col(\"forma_pagamento\"),\n",
    "        F.col(\"tipo_pagamento\"),\n",
    "        F.col(\"status_pagamento\"),\n",
    "        F.col(\"nota_fiscal\")\n",
    "    )\n",
    "    .withColumn(\"data_emissao\", F.to_date(F.col(\"data_emissao\")))\n",
    "    .withColumn(\"data_vencimento\", F.to_date(F.col(\"data_vencimento\")))\n",
    "    .withColumn(\"data_pagamento\", F.to_date(F.col(\"data_pagamento\")))\n",
    "    .withColumn(\"start_date\", F.current_date())\n",
    "    .withColumn(\"update_date\", F.lit(None).cast(\"date\"))\n",
    ")\n",
    "\n",
    "display(df_faturas.limit(5))\n"
   ]
  },
  {
   "cell_type": "code",
   "execution_count": 0,
   "metadata": {
    "application/vnd.databricks.v1+cell": {
     "cellMetadata": {
      "byteLimit": 2048000,
      "rowLimit": 10000
     },
     "inputWidgets": {},
     "nuid": "990d8d7c-9d54-43e7-a6f5-d1f4b1398681",
     "showTitle": false,
     "tableResultSettingsMap": {},
     "title": ""
    }
   },
   "outputs": [],
   "source": [
    "# Importando as funções do PySpark (boa prática garantir que F esteja definido)\n",
    "import pyspark.sql.functions as F\n",
    "\n",
    "# 1. Aplicar os aliases (apelidos) aos DataFrames antes do join.\n",
    "# Esta é uma forma limpa e legível de preparar a operação.\n",
    "c = df_consumos.alias(\"c\")\n",
    "f = df_faturas.alias(\"f\")\n",
    "\n",
    "# 2. Executar o join e a seleção com a sintaxe correta\n",
    "df_faturas_consumos = (\n",
    "    c.join(f, on=\"reserva_id\", how=\"inner\") # 'how=\"inner\"' é o padrão, mas é bom ser explícito.\n",
    "    .select(\n",
    "        # Colunas da tabela de consumos (alias 'c')\n",
    "        F.col(\"c.consumo_id\"),\n",
    "        F.col(\"c.reserva_id\"),\n",
    "        F.col(\"c.hospede_id\"),\n",
    "        F.col(\"c.hotel_id\"),\n",
    "        F.col(\"c.quarto_id\"),\n",
    "        F.col(\"c.data_consumo\"),\n",
    "        F.col(\"c.tipo_servico\"),\n",
    "        F.col(\"c.descricao\"),\n",
    "        F.col(\"c.valor\"),\n",
    "        F.col(\"c.pago\"),\n",
    "        \n",
    "        # Colunas da tabela de faturas (alias 'f')\n",
    "        F.col(\"f.fatura_id\"),\n",
    "        F.col(\"f.data_emissao\"),\n",
    "        F.col(\"f.data_vencimento\"),\n",
    "        F.col(\"f.data_pagamento\"),\n",
    "        F.col(\"f.valor_diarias\"),\n",
    "        F.col(\"f.subtotal_consumos\"),\n",
    "        F.col(\"f.impostos\"),\n",
    "        F.col(\"f.valor_total\"),\n",
    "        F.col(\"f.forma_pagamento\"),\n",
    "        F.col(\"f.tipo_pagamento\"),\n",
    "        F.col(\"f.status_pagamento\"),\n",
    "        F.col(\"f.nota_fiscal\")\n",
    "    )\n",
    "    # 3. Adicionar colunas de auditoria/controle no final\n",
    "    .withColumn(\"start_date\", F.current_date())\n",
    "    .withColumn(\"update_date\", F.lit(None).cast(\"date\"))\n",
    ")\n",
    "\n",
    "# Exibir o resultado para verificação\n",
    "display(df_faturas_consumos.limit(5))"
   ]
  },
  {
   "cell_type": "code",
   "execution_count": 0,
   "metadata": {
    "application/vnd.databricks.v1+cell": {
     "cellMetadata": {
      "byteLimit": 2048000,
      "rowLimit": 10000
     },
     "inputWidgets": {},
     "nuid": "a23c5059-378e-4f59-90fb-74298e4e4e56",
     "showTitle": false,
     "tableResultSettingsMap": {},
     "title": ""
    }
   },
   "outputs": [],
   "source": [
    "catalog_table = \"production.trusted.tb_faturas_consumos\"\n",
    "\n",
    "if spark.catalog.tableExists(catalog_table):\n",
    "    delta_table = DeltaTable.forName(spark, catalog_table)\n",
    "    \n",
    "    # Merge (upsert) com atualização da update_date\n",
    "    delta_table.alias(\"target\").merge(\n",
    "        df_faturas_consumos.alias(\"source\"),\n",
    "        \"target.consumo_id = source.consumo_id AND target.fatura_id = source.fatura_id\"\n",
    "    ).whenMatchedUpdate(\n",
    "        set = {\n",
    "            **{col: f\"source.{col}\" for col in df_faturas_consumos.columns if col != \"update_date\"},\n",
    "            \"update_date\": \"current_date()\"\n",
    "        }\n",
    "    ).whenNotMatchedInsertAll() \\\n",
    "     .execute()\n",
    "else:\n",
    "    # Se não existir, cria a tabela Delta incluindo a update_date\n",
    "    (\n",
    "        df_faturas_consumos\n",
    "        .withColumn(\"update_date\", lit(\"\"))\n",
    "        .write\n",
    "        .format(\"delta\")\n",
    "        .saveAsTable(catalog_table)\n",
    "    )"
   ]
  }
 ],
 "metadata": {
  "application/vnd.databricks.v1+notebook": {
   "computePreferences": null,
   "dashboards": [],
   "environmentMetadata": {
    "base_environment": "",
    "environment_version": "3"
   },
   "inputWidgetPreferences": null,
   "language": "python",
   "notebookMetadata": {
    "mostRecentlyExecutedCommandWithImplicitDF": {
     "commandId": 5150682532233891,
     "dataframes": [
      "_sqldf"
     ]
    },
    "pythonIndentUnit": 4
   },
   "notebookName": "tb_faturas_cosumos",
   "widgets": {}
  },
  "language_info": {
   "name": "python"
  }
 },
 "nbformat": 4,
 "nbformat_minor": 0
}
