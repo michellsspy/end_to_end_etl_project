{
 "cells": [
  {
   "cell_type": "code",
   "execution_count": 0,
   "metadata": {
    "application/vnd.databricks.v1+cell": {
     "cellMetadata": {
      "byteLimit": 2048000,
      "rowLimit": 10000
     },
     "inputWidgets": {},
     "nuid": "2638ba2c-39d4-4eac-9804-0dea629921d5",
     "showTitle": false,
     "tableResultSettingsMap": {},
     "title": ""
    }
   },
   "outputs": [],
   "source": [
    "from pyspark.sql import functions as F\n",
    "from delta.tables import DeltaTable\n",
    "from datetime import datetime"
   ]
  },
  {
   "cell_type": "code",
   "execution_count": 0,
   "metadata": {
    "application/vnd.databricks.v1+cell": {
     "cellMetadata": {
      "byteLimit": 2048000,
      "rowLimit": 10000
     },
     "inputWidgets": {},
     "nuid": "a0db3907-8296-47ae-a65b-9f2a6c3b536e",
     "showTitle": false,
     "tableResultSettingsMap": {
      "0": {
       "dataGridStateBlob": "{\"version\":1,\"tableState\":{\"columnPinning\":{\"left\":[\"#row_number#\"],\"right\":[]},\"columnSizing\":{},\"columnVisibility\":{}},\"settings\":{\"columns\":{}},\"syncTimestamp\":1758930155083}",
       "filterBlob": null,
       "queryPlanFiltersBlob": null,
       "tableResultIndex": 0
      }
     },
     "title": ""
    }
   },
   "outputs": [],
   "source": [
    "df_hospedes = (\n",
    "    spark.read.format(\"delta\").load(\"/Volumes/workspace/default/raw/tb_hospedes\")\n",
    "    .select(\n",
    "        F.col(\"hospede_id\"),\n",
    "        F.col(\"nome\"),\n",
    "        F.col(\"data_nascimento\"),\n",
    "        F.col(\"sexo\"),\n",
    "        F.col(\"nacionalidade\"),\n",
    "        F.col(\"tipo_cliente\"),\n",
    "        F.col(\"email\"),\n",
    "        F.col(\"telefone\")\n",
    "    )\n",
    "    .withColumn(\"data_nascimento\", F.to_date(F.col(\"data_nascimento\")))\n",
    "    .withColumn(\"idade\", (F.datediff(F.current_date(), F.col(\"data_nascimento\")) / 365).cast(\"integer\"))\n",
    "    .withColumn(\"start_date\", F.current_date())\n",
    "    .withColumn(\"update_date\", F.lit(None).cast(\"date\"))\n",
    ")\n",
    "\n",
    "display(df_hospedes.limit(5))"
   ]
  },
  {
   "cell_type": "code",
   "execution_count": 0,
   "metadata": {
    "application/vnd.databricks.v1+cell": {
     "cellMetadata": {
      "byteLimit": 2048000,
      "rowLimit": 10000
     },
     "inputWidgets": {},
     "nuid": "a23c5059-378e-4f59-90fb-74298e4e4e56",
     "showTitle": false,
     "tableResultSettingsMap": {},
     "title": ""
    }
   },
   "outputs": [],
   "source": [
    "catalog_path = \"/Volumes/workspace/default/trusted/tb_hospedes\"\n",
    "\n",
    "if DeltaTable.isDeltaTable(spark, catalog_path):\n",
    "    delta_table = DeltaTable.forPath(spark, catalog_path)\n",
    "    \n",
    "    # Merge (upsert) com atualização da update_date\n",
    "    delta_table.alias(\"target\").merge(\n",
    "        df_hospedes.alias(\"source\"),\n",
    "        \"target.hospede_id = source.hospede_id\"  # chave única\n",
    "    ).whenMatchedUpdate(\n",
    "        set = {\n",
    "            # Atualiza todas as colunas exceto update_date\n",
    "            **{col: f\"source.{col}\" for col in df_hospedes.columns if col != \"update_date\"},\n",
    "            # Atualiza a update_date com a data atual\n",
    "            \"update_date\": \"current_date()\"\n",
    "        }\n",
    "    ).whenNotMatchedInsertAll() \\\n",
    "     .execute()\n",
    "else:\n",
    "    # Se não existir, cria a tabela Delta incluindo a update_date\n",
    "    df_hospedes.write.format(\"delta\").save(catalog_path)"
   ]
  }
 ],
 "metadata": {
  "application/vnd.databricks.v1+notebook": {
   "computePreferences": null,
   "dashboards": [],
   "environmentMetadata": {
    "base_environment": "",
    "environment_version": "3"
   },
   "inputWidgetPreferences": null,
   "language": "python",
   "notebookMetadata": {
    "pythonIndentUnit": 4
   },
   "notebookName": "tb_hospedes",
   "widgets": {}
  },
  "language_info": {
   "name": "python"
  }
 },
 "nbformat": 4,
 "nbformat_minor": 0
}
