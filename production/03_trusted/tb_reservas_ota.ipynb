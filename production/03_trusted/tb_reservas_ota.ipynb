{
 "cells": [
  {
   "cell_type": "code",
   "execution_count": 0,
   "metadata": {
    "application/vnd.databricks.v1+cell": {
     "cellMetadata": {
      "byteLimit": 2048000,
      "rowLimit": 10000
     },
     "inputWidgets": {},
     "nuid": "2638ba2c-39d4-4eac-9804-0dea629921d5",
     "showTitle": false,
     "tableResultSettingsMap": {},
     "title": ""
    }
   },
   "outputs": [],
   "source": [
    "from pyspark.sql import functions as F\n",
    "from delta.tables import DeltaTable\n",
    "from datetime import datetime"
   ]
  },
  {
   "cell_type": "code",
   "execution_count": 0,
   "metadata": {
    "application/vnd.databricks.v1+cell": {
     "cellMetadata": {
      "byteLimit": 2048000,
      "rowLimit": 10000
     },
     "inputWidgets": {},
     "nuid": "a0db3907-8296-47ae-a65b-9f2a6c3b536e",
     "showTitle": false,
     "tableResultSettingsMap": {
      "0": {
       "dataGridStateBlob": "{\"version\":1,\"tableState\":{\"columnPinning\":{\"left\":[\"#row_number#\"],\"right\":[]},\"columnSizing\":{},\"columnVisibility\":{}},\"settings\":{\"columns\":{}},\"syncTimestamp\":1758930155083}",
       "filterBlob": null,
       "queryPlanFiltersBlob": null,
       "tableResultIndex": 0
      }
     },
     "title": ""
    }
   },
   "outputs": [],
   "source": [
    "df_reservas_ota = (\n",
    "    spark.read.format(\"delta\").load(\"/Volumes/workspace/default/raw/tb_reservas_ota\")\n",
    "    .select(\n",
    "        F.col(\"reserva_ota_id\"),\n",
    "        F.col(\"reserva_id\"),\n",
    "        F.col(\"canal\"),\n",
    "        F.col(\"comissao_percent\"),\n",
    "        F.col(\"data_reserva\")\n",
    "    )\n",
    "    .withColumn(\"data_reserva\", F.to_date(F.col(\"data_reserva\")))\n",
    "    .withColumn(\"start_date\", F.current_date())\n",
    "    .withColumn(\"update_date\", F.lit(None).cast(\"date\"))\n",
    ")\n",
    "\n",
    "display(df_reservas_ota.limit(5))"
   ]
  },
  {
   "cell_type": "code",
   "execution_count": 0,
   "metadata": {
    "application/vnd.databricks.v1+cell": {
     "cellMetadata": {
      "byteLimit": 2048000,
      "rowLimit": 10000
     },
     "inputWidgets": {},
     "nuid": "a23c5059-378e-4f59-90fb-74298e4e4e56",
     "showTitle": false,
     "tableResultSettingsMap": {},
     "title": ""
    }
   },
   "outputs": [],
   "source": [
    "catalog_path = \"/Volumes/workspace/default/trusted/tb_reservas_ota\"\n",
    "\n",
    "if DeltaTable.isDeltaTable(spark, catalog_path):\n",
    "    delta_table = DeltaTable.forPath(spark, catalog_path)\n",
    "    \n",
    "    # Merge (upsert) com atualização da update_date\n",
    "    delta_table.alias(\"target\").merge(\n",
    "        df_reservas_ota.alias(\"source\"),\n",
    "        \"target.reserva_ota_id = source.reserva_ota_id\"  # chave única\n",
    "    ).whenMatchedUpdate(\n",
    "        set = {\n",
    "            # Atualiza todas as colunas exceto update_date\n",
    "            **{col: f\"source.{col}\" for col in df_reservas_ota.columns if col != \"update_date\"},\n",
    "            # Atualiza a update_date com a data atual\n",
    "            \"update_date\": \"current_date()\"\n",
    "        }\n",
    "    ).whenNotMatchedInsertAll() \\\n",
    "     .execute()\n",
    "else:\n",
    "    # Se não existir, cria a tabela Delta incluindo a update_date\n",
    "    df_reservas_ota.write.format(\"delta\").save(catalog_path)"
   ]
  }
 ],
 "metadata": {
  "application/vnd.databricks.v1+notebook": {
   "computePreferences": {
    "hardware": {
     "accelerator": null,
     "gpuPoolId": null,
     "memory": null
    }
   },
   "dashboards": [],
   "environmentMetadata": {
    "base_environment": "",
    "environment_version": "3"
   },
   "inputWidgetPreferences": null,
   "language": "python",
   "notebookMetadata": {
    "pythonIndentUnit": 4
   },
   "notebookName": "tb_reservas_ota",
   "widgets": {}
  },
  "language_info": {
   "name": "python"
  }
 },
 "nbformat": 4,
 "nbformat_minor": 0
}
