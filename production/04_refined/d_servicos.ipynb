{
 "cells": [
  {
   "cell_type": "code",
   "execution_count": 0,
   "metadata": {
    "application/vnd.databricks.v1+cell": {
     "cellMetadata": {
      "byteLimit": 2048000,
      "rowLimit": 10000
     },
     "inputWidgets": {},
     "nuid": "530a1e9c-685a-4e67-a0c7-b144f78f67b5",
     "showTitle": false,
     "tableResultSettingsMap": {},
     "title": ""
    }
   },
   "outputs": [],
   "source": [
    "from pyspark.sql import SparkSession, functions as F, types as T, Window\n",
    "from delta.tables import DeltaTable\n",
    "import os"
   ]
  },
  {
   "cell_type": "code",
   "execution_count": 0,
   "metadata": {
    "application/vnd.databricks.v1+cell": {
     "cellMetadata": {
      "byteLimit": 2048000,
      "rowLimit": 10000
     },
     "inputWidgets": {},
     "nuid": "7bce8330-5bc1-48ef-87a7-65b65984c517",
     "showTitle": false,
     "tableResultSettingsMap": {},
     "title": ""
    }
   },
   "outputs": [],
   "source": [
    "# --- Caminho da tabela Delta ---\n",
    "catalog_path = \"/Volumes/workspace/default/refined/d_servicos\"\n",
    "\n",
    "# --- Cria a tabela Delta vazia se não existir ---\n",
    "if not DeltaTable.isDeltaTable(spark, catalog_path):\n",
    "    schema = T.StructType([\n",
    "        T.StructField(\"pk_servico\", T.StringType(), True),\n",
    "        T.StructField(\"sk_servico\", T.LongType(), True),\n",
    "        T.StructField(\"tipo_servico\", T.StringType(), True),\n",
    "        T.StructField(\"descricao\", T.StringType(), True),\n",
    "        T.StructField(\"start_date\", T.DateType(), True),\n",
    "        T.StructField(\"update_date\", T.DateType(), True)\n",
    "    ])\n",
    "    df_empty = spark.createDataFrame([], schema)\n",
    "    os.makedirs(catalog_path, exist_ok=True)\n",
    "    df_empty.write.format(\"delta\").mode(\"overwrite\").save(catalog_path)\n",
    "    print(\"Tabela Delta criada com sucesso em:\", catalog_path)"
   ]
  },
  {
   "cell_type": "code",
   "execution_count": 0,
   "metadata": {
    "application/vnd.databricks.v1+cell": {
     "cellMetadata": {
      "byteLimit": 2048000,
      "rowLimit": 10000
     },
     "inputWidgets": {},
     "nuid": "fec5214c-16f0-469e-ba66-3ed405bf5d84",
     "showTitle": false,
     "tableResultSettingsMap": {},
     "title": ""
    }
   },
   "outputs": [],
   "source": [
    "# --- Carrega a dimensão existente ---\n",
    "delta_table = DeltaTable.forPath(spark, catalog_path)\n",
    "df_dim_existente = delta_table.toDF()\n",
    "\n",
    "# --- Consome os dados de entrada ---\n",
    "df_consumos = spark.read.format(\"delta\").load(\"/Volumes/workspace/default/raw/tb_consumos\") \\\n",
    "                       .select(\n",
    "                           F.col(\"tipo_servico\"), \n",
    "                           F.col(\"descricao\")\n",
    "                           ) \\\n",
    "                       .dropDuplicates() \\\n",
    "                       .withColumn(\n",
    "                        \"pk_servico\",\n",
    "                        F.sha2(F.concat_ws(\"||\", F.col(\"tipo_servico\"), F.col(\"descricao\")), 256)\n",
    "                    )\n",
    "\n",
    "# --- Último surrogate key (sk_servico) ---\n",
    "last_id = df_dim_existente.agg(F.max(\"sk_servico\")).collect()[0][0]\n",
    "if last_id is None:\n",
    "    last_id = 0\n",
    "\n",
    "# --- Prepara registros de entrada com surrogate key nova ---\n",
    "window = Window.orderBy(\"tipo_servico\", \"descricao\")\n",
    "df_prepared = (\n",
    "    df_consumos.withColumn(\n",
    "        \"sk_servico\", (F.row_number().over(window) + last_id).cast(T.LongType())\n",
    "    )\n",
    "    .withColumn(\"start_date\", F.current_date())                 # só será usada no insert\n",
    "    .withColumn(\"update_date\", F.lit(None).cast(T.DateType()))  # começa nulo\n",
    ")"
   ]
  },
  {
   "cell_type": "code",
   "execution_count": 0,
   "metadata": {
    "application/vnd.databricks.v1+cell": {
     "cellMetadata": {
      "byteLimit": 2048000,
      "rowLimit": 10000
     },
     "inputWidgets": {},
     "nuid": "002ffec0-5014-40f6-ad70-35c07216327f",
     "showTitle": false,
     "tableResultSettingsMap": {},
     "title": ""
    }
   },
   "outputs": [],
   "source": [
    "# --- Executa o MERGE (chave de negócio: tipo_servico + descricao) ---\n",
    "(\n",
    "    delta_table.alias(\"target\")\n",
    "    .merge(\n",
    "        df_prepared.alias(\"source\"),\n",
    "        \"target.pk_servico = source.pk_servico\"\n",
    "    )\n",
    "    # Se já existir registro ativo -> atualiza a versão antiga (não mexe em start_date)\n",
    "    .whenMatchedUpdate(\n",
    "        condition=\"target.update_date IS NULL\",\n",
    "        set={\n",
    "            \"update_date\": \"current_date()\"\n",
    "        }\n",
    "    )\n",
    "    # Se não existir -> insere nova versão (start_date só entra aqui!)\n",
    "    .whenNotMatchedInsert(values={\n",
    "        \"pk_servico\": \"source.pk_servico\",\n",
    "        \"sk_servico\": \"source.sk_servico\",\n",
    "        \"tipo_servico\": \"source.tipo_servico\",\n",
    "        \"descricao\": \"source.descricao\",\n",
    "        \"start_date\": \"source.start_date\",   \n",
    "        \"update_date\": \"source.update_date\"\n",
    "    })\n",
    "    .execute()\n",
    ")"
   ]
  },
  {
   "cell_type": "code",
   "execution_count": 0,
   "metadata": {
    "application/vnd.databricks.v1+cell": {
     "cellMetadata": {
      "byteLimit": 2048000,
      "rowLimit": 10000
     },
     "inputWidgets": {},
     "nuid": "6de2fa8e-6464-47c4-a4ce-74f411e7fdc5",
     "showTitle": false,
     "tableResultSettingsMap": {},
     "title": ""
    }
   },
   "outputs": [],
   "source": [
    "df = spark.read.format(\"delta\").load(\"/Volumes/workspace/default/refined/d_servicos\")\n",
    "display(df)"
   ]
  }
 ],
 "metadata": {
  "application/vnd.databricks.v1+notebook": {
   "computePreferences": null,
   "dashboards": [],
   "environmentMetadata": {
    "base_environment": "",
    "environment_version": "3"
   },
   "inputWidgetPreferences": null,
   "language": "python",
   "notebookMetadata": {
    "pythonIndentUnit": 4
   },
   "notebookName": "d_servicos",
   "widgets": {}
  },
  "language_info": {
   "name": "python"
  }
 },
 "nbformat": 4,
 "nbformat_minor": 0
}
