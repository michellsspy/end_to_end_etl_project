{
 "cells": [
  {
   "cell_type": "code",
   "execution_count": 0,
   "metadata": {
    "application/vnd.databricks.v1+cell": {
     "cellMetadata": {
      "byteLimit": 2048000,
      "rowLimit": 10000
     },
     "inputWidgets": {},
     "nuid": "46d80d9e-788b-4945-9377-376b18bba44c",
     "showTitle": false,
     "tableResultSettingsMap": {},
     "title": ""
    }
   },
   "outputs": [],
   "source": [
    "from pyspark.sql import functions as F"
   ]
  },
  {
   "cell_type": "code",
   "execution_count": 0,
   "metadata": {
    "application/vnd.databricks.v1+cell": {
     "cellMetadata": {
      "byteLimit": 2048000,
      "rowLimit": 10000
     },
     "inputWidgets": {},
     "nuid": "fe696607-4a71-42ac-9904-869c988b9ee0",
     "showTitle": false,
     "tableResultSettingsMap": {},
     "title": ""
    }
   },
   "outputs": [],
   "source": [
    "source_table = \"tb_consumos\"\n",
    "source_directory = \"trusted\"\n",
    "target_table = \"f_consumos\"\n",
    "target_directory = \"refined\"\n",
    "type_table = \"delta\""
   ]
  },
  {
   "cell_type": "code",
   "execution_count": 0,
   "metadata": {
    "application/vnd.databricks.v1+cell": {
     "cellMetadata": {
      "byteLimit": 2048000,
      "rowLimit": 10000
     },
     "inputWidgets": {},
     "nuid": "ea9a0ef1-caaa-468f-95fd-63d8baf67ffb",
     "showTitle": false,
     "tableResultSettingsMap": {},
     "title": ""
    }
   },
   "outputs": [],
   "source": [
    "from pyspark.sql import functions as F\n",
    "\n",
    "# Load the main table\n",
    "df_c = spark.read.format(type_table).load(\n",
    "    f\"/Volumes/workspace/default/{source_directory}/{source_table}\"\n",
    ")\n",
    "\n",
    "# Load the quartos table\n",
    "df_q = spark.read.format(type_table).load(\n",
    "    f\"/Volumes/workspace/default/{source_directory}/tb_quartos\"\n",
    ")\n",
    "\n",
    "# Perform the join and select columns\n",
    "f_consumos = (\n",
    "    df_c.join(\n",
    "        df_q,\n",
    "        on=\"quarto_id\",\n",
    "        how=\"inner\"\n",
    "    ).select(\n",
    "        \"consumo_id\",\n",
    "        \"hospede_id\",\n",
    "        \"quarto_id\",\n",
    "        \"hotel_id\",\n",
    "        \"data_consumo\",\n",
    "        \"tipo_servico\",\n",
    "        \"descricao\",\n",
    "        \"valor\",\n",
    "        F.when(F.col(\"pago\") == \"Sim\", 1).otherwise(0).alias(\"pago\")\n",
    "    )\n",
    ")\n",
    "\n",
    "display(f_consumos.limit(5))"
   ]
  }
 ],
 "metadata": {
  "application/vnd.databricks.v1+notebook": {
   "computePreferences": null,
   "dashboards": [],
   "environmentMetadata": {
    "base_environment": "",
    "environment_version": "3"
   },
   "inputWidgetPreferences": null,
   "language": "python",
   "notebookMetadata": {
    "pythonIndentUnit": 4
   },
   "notebookName": "f_consumos",
   "widgets": {}
  },
  "language_info": {
   "name": "python"
  }
 },
 "nbformat": 4,
 "nbformat_minor": 0
}
