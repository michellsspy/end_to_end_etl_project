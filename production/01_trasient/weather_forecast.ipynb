{
 "cells": [
  {
   "cell_type": "code",
   "execution_count": 0,
   "metadata": {
    "application/vnd.databricks.v1+cell": {
     "cellMetadata": {
      "byteLimit": 2048000,
      "rowLimit": 10000
     },
     "inputWidgets": {},
     "nuid": "8439fa7a-440d-4457-bb6f-ea208b6063a4",
     "showTitle": false,
     "tableResultSettingsMap": {},
     "title": ""
    }
   },
   "outputs": [],
   "source": [
    "# !pip install meteostat"
   ]
  },
  {
   "cell_type": "code",
   "execution_count": 0,
   "metadata": {
    "application/vnd.databricks.v1+cell": {
     "cellMetadata": {
      "byteLimit": 2048000,
      "rowLimit": 10000
     },
     "inputWidgets": {},
     "nuid": "46f83490-8ab2-4892-90dc-38dde7a4f655",
     "showTitle": false,
     "tableResultSettingsMap": {},
     "title": ""
    }
   },
   "outputs": [],
   "source": [
    "from datetime import datetime\n",
    "from meteostat import Point, Daily\n",
    "from pyspark.sql import SparkSession\n",
    "import pandas as pd\n",
    "\n",
    "# Localização (ex: São Paulo)\n",
    "location = Point(-23.5505, -46.6333)\n",
    "hoje = datetime.now()\n",
    "\n",
    "# Período histórico\n",
    "start = datetime(2023, 1, 1)\n",
    "end = hoje\n",
    "\n",
    "# Dados diários\n",
    "data = Daily(location, start, end)\n",
    "data = data.fetch()\n",
    "\n",
    "print(data.head())\n",
    "\n",
    "# Converter para Spark DataFrame e salvar\n",
    "spark_df = spark.createDataFrame(data.reset_index())\n",
    "caminho_delta = \"production.transient.weather_forecast\"\n",
    "\n",
    "spark_df.write.format(\"delta\").mode(\"overwrite\").option(\"mergeSchema\", \"true\").saveAsTable(caminho_delta)\n",
    "\n",
    "print(f\"Dados salvos com sucesso em: {caminho_delta}\")"
   ]
  }
 ],
 "metadata": {
  "application/vnd.databricks.v1+notebook": {
   "computePreferences": null,
   "dashboards": [],
   "environmentMetadata": {
    "base_environment": "",
    "environment_version": "3"
   },
   "inputWidgetPreferences": null,
   "language": "python",
   "notebookMetadata": {
    "pythonIndentUnit": 4
   },
   "notebookName": "weather_forecast",
   "widgets": {}
  },
  "language_info": {
   "name": "python"
  }
 },
 "nbformat": 4,
 "nbformat_minor": 0
}
