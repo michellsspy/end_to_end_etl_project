{
 "cells": [
  {
   "cell_type": "code",
   "execution_count": 0,
   "metadata": {
    "application/vnd.databricks.v1+cell": {
     "cellMetadata": {},
     "inputWidgets": {},
     "nuid": "55354be7-f574-4da8-b78e-4870784aacff",
     "showTitle": true,
     "tableResultSettingsMap": {},
     "title": "encrypt"
    }
   },
   "outputs": [],
   "source": [
    "from pyspark.sql import SparkSession\n",
    "from pyspark.sql.functions import udf, col\n",
    "from pyspark.sql.types import StringType\n",
    "from cryptography.fernet import Fernet\n",
    "\n",
    "# 🔑 Gera a chave uma vez e guarda em lugar seguro (ex: Secret Manager, Key Vault etc.)\n",
    "key = Fernet.generate_key()\n",
    "cipher = Fernet(key)\n",
    "\n",
    "# Função para criptografar\n",
    "def encrypt(value):\n",
    "    if value is not None:\n",
    "        return cipher.encrypt(value.encode()).decode()\n",
    "    return None\n",
    "\n",
    "# Função para descriptografar\n",
    "def decrypt(value):\n",
    "    if value is not None:\n",
    "        return cipher.decrypt(value.encode()).decode()\n",
    "    return None\n",
    "\n",
    "# Registra UDFs\n",
    "encrypt_udf = udf(encrypt, StringType())\n",
    "decrypt_udf = udf(decrypt, StringType())\n",
    "\n",
    "\n",
    "# # Criptografa\n",
    "# df_enc = df.withColumn(\"notas_fiscais_enc\", encrypt_udf(col(\"notas_fiscais\")))\n",
    "\n",
    "# # Descriptografa\n",
    "# df_dec = df_enc.withColumn(\"notas_fiscais_dec\", decrypt_udf(col(\"notas_fiscais_enc\")))\n"
   ]
  }
 ],
 "metadata": {
  "application/vnd.databricks.v1+notebook": {
   "computePreferences": null,
   "dashboards": [],
   "environmentMetadata": {
    "base_environment": "",
    "environment_version": "3"
   },
   "inputWidgetPreferences": null,
   "language": "python",
   "notebookMetadata": {
    "pythonIndentUnit": 4
   },
   "notebookName": "functions",
   "widgets": {}
  },
  "language_info": {
   "name": "python"
  }
 },
 "nbformat": 4,
 "nbformat_minor": 0
}
