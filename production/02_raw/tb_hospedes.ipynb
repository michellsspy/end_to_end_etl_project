{
 "cells": [
  {
   "cell_type": "code",
   "execution_count": 0,
   "metadata": {
    "application/vnd.databricks.v1+cell": {
     "cellMetadata": {
      "byteLimit": 2048000,
      "rowLimit": 10000
     },
     "inputWidgets": {},
     "nuid": "44e2cf94-2941-4348-93c1-f6b1954f5e31",
     "showTitle": false,
     "tableResultSettingsMap": {},
     "title": ""
    }
   },
   "outputs": [],
   "source": [
    "%run ../00_functions/functions"
   ]
  },
  {
   "cell_type": "code",
   "execution_count": 0,
   "metadata": {
    "application/vnd.databricks.v1+cell": {
     "cellMetadata": {
      "byteLimit": 2048000,
      "rowLimit": 10000
     },
     "inputWidgets": {},
     "nuid": "2638ba2c-39d4-4eac-9804-0dea629921d5",
     "showTitle": false,
     "tableResultSettingsMap": {},
     "title": ""
    }
   },
   "outputs": [],
   "source": [
    "from pyspark.sql import functions as F\n",
    "from delta.tables import DeltaTable\n",
    "from datetime import datetime\n",
    "from pyspark.sql.functions import current_date"
   ]
  },
  {
   "cell_type": "code",
   "execution_count": 0,
   "metadata": {
    "application/vnd.databricks.v1+cell": {
     "cellMetadata": {
      "byteLimit": 2048000,
      "rowLimit": 10000
     },
     "inputWidgets": {},
     "nuid": "a0db3907-8296-47ae-a65b-9f2a6c3b536e",
     "showTitle": false,
     "tableResultSettingsMap": {
      "0": {
       "dataGridStateBlob": "{\"version\":1,\"tableState\":{\"columnPinning\":{\"left\":[\"#row_number#\"],\"right\":[]},\"columnSizing\":{},\"columnVisibility\":{}},\"settings\":{\"columns\":{}},\"syncTimestamp\":1758930155083}",
       "filterBlob": null,
       "queryPlanFiltersBlob": null,
       "tableResultIndex": 0
      }
     },
     "title": ""
    }
   },
   "outputs": [],
   "source": [
    "df_hospedes = (\n",
    "    spark.read.table(\"production.transient.hospedes\")\n",
    "    .select(\n",
    "        F.col(\"hospede_id\"),\n",
    "        F.col(\"nome\"),\n",
    "        F.col(\"cpf\"),\n",
    "        F.col(\"data_nascimento\"),\n",
    "        F.col(\"sexo\"),\n",
    "        F.col(\"nacionalidade\"),\n",
    "        F.col(\"tipo_cliente\"),\n",
    "        F.col(\"email\"),\n",
    "        F.col(\"telefone\"),\n",
    "        F.col(\"estado\"),\n",
    "        F.col(\"cidade\"),\n",
    "        F.col(\"bairro\"),\n",
    "        F.col(\"rua\"),\n",
    "        F.col(\"numero\"),\n",
    "        F.col(\"complemento\"),\n",
    "        F.col(\"cep\")\n",
    "    )\n",
    "    .withColumn(\"cpf\", encrypt_udf(col(\"cpf\")))\n",
    "    .withColumn(\"sexo\", encrypt_udf(col(\"sexo\"))) #Considerado sensível pela LGPD se contempla distinção de gênero\n",
    "    .withColumn(\"start_date\", F.current_date())\n",
    "    .withColumn(\"update_date\", F.lit(None).cast(\"date\"))\n",
    ")\n",
    "\n",
    "display(df_hospedes.limit(5))"
   ]
  },
  {
   "cell_type": "code",
   "execution_count": 0,
   "metadata": {
    "application/vnd.databricks.v1+cell": {
     "cellMetadata": {
      "byteLimit": 2048000,
      "rowLimit": 10000
     },
     "inputWidgets": {},
     "nuid": "a23c5059-378e-4f59-90fb-74298e4e4e56",
     "showTitle": false,
     "tableResultSettingsMap": {},
     "title": ""
    }
   },
   "outputs": [],
   "source": [
    "catalog_table = \"production.raw.tb_hospedes\"\n",
    "\n",
    "try:\n",
    "    delta_table = DeltaTable.forName(spark, catalog_table)\n",
    "\n",
    "    delta_table.alias(\"target\").merge(\n",
    "        df_hospedes.alias(\"source\"),\n",
    "        \"target.hospede_id = source.hospede_id\"\n",
    "    ).whenMatchedUpdate(\n",
    "        set={\n",
    "            **{col: f\"source.{col}\" for col in df_hospedes.columns if col != \"update_date\"},\n",
    "            \"update_date\": current_date()\n",
    "        }\n",
    "    ).whenNotMatchedInsertAll().execute()\n",
    "\n",
    "except Exception:\n",
    "    df_hospedes.write.format(\"delta\").mode(\"overwrite\").saveAsTable(catalog_table)"
   ]
  }
 ],
 "metadata": {
  "application/vnd.databricks.v1+notebook": {
   "computePreferences": {
    "hardware": {
     "accelerator": null,
     "gpuPoolId": null,
     "memory": null
    }
   },
   "dashboards": [],
   "environmentMetadata": {
    "base_environment": "",
    "environment_version": "3"
   },
   "inputWidgetPreferences": null,
   "language": "python",
   "notebookMetadata": {
    "mostRecentlyExecutedCommandWithImplicitDF": {
     "commandId": 8594226877912480,
     "dataframes": [
      "_sqldf"
     ]
    },
    "pythonIndentUnit": 4
   },
   "notebookName": "tb_hospedes",
   "widgets": {}
  },
  "language_info": {
   "name": "python"
  }
 },
 "nbformat": 4,
 "nbformat_minor": 0
}
