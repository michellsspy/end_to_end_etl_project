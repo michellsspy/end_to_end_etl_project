{
 "cells": [
  {
   "cell_type": "code",
   "execution_count": 0,
   "metadata": {
    "application/vnd.databricks.v1+cell": {
     "cellMetadata": {
      "byteLimit": 2048000,
      "rowLimit": 10000
     },
     "inputWidgets": {},
     "nuid": "2638ba2c-39d4-4eac-9804-0dea629921d5",
     "showTitle": false,
     "tableResultSettingsMap": {},
     "title": ""
    }
   },
   "outputs": [],
   "source": [
    "from pyspark.sql import functions as F\n",
    "from delta.tables import DeltaTable\n",
    "from pyspark.sql.functions import current_date"
   ]
  },
  {
   "cell_type": "code",
   "execution_count": 0,
   "metadata": {
    "application/vnd.databricks.v1+cell": {
     "cellMetadata": {
      "byteLimit": 2048000,
      "rowLimit": 10000
     },
     "inputWidgets": {},
     "nuid": "a0db3907-8296-47ae-a65b-9f2a6c3b536e",
     "showTitle": false,
     "tableResultSettingsMap": {
      "0": {
       "dataGridStateBlob": "{\"version\":1,\"tableState\":{\"columnPinning\":{\"left\":[\"#row_number#\"],\"right\":[]},\"columnSizing\":{},\"columnVisibility\":{}},\"settings\":{\"columns\":{}},\"syncTimestamp\":1758930155083}",
       "filterBlob": null,
       "queryPlanFiltersBlob": null,
       "tableResultIndex": 0
      }
     },
     "title": ""
    }
   },
   "outputs": [],
   "source": [
    "df_consumos = (\n",
    "    spark.read.table(\"production.transient.pdv_consumos\")\n",
    "    .select(\n",
    "        F.col(\"*\"),\n",
    "    )\n",
    "    .withColumn(\"start_date\", F.current_date())\n",
    "    .withColumn(\"update_date\", F.lit(None).cast(\"date\"))\n",
    ")\n",
    "\n",
    "display(df_consumos.limit(5))\n"
   ]
  },
  {
   "cell_type": "code",
   "execution_count": 0,
   "metadata": {
    "application/vnd.databricks.v1+cell": {
     "cellMetadata": {
      "byteLimit": 2048000,
      "rowLimit": 10000
     },
     "inputWidgets": {},
     "nuid": "a23c5059-378e-4f59-90fb-74298e4e4e56",
     "showTitle": false,
     "tableResultSettingsMap": {},
     "title": ""
    }
   },
   "outputs": [],
   "source": [
    "catalog_table = \"production.raw.raw_tb_consumos\"\n",
    "\n",
    "try:\n",
    "    # --- ETAPA 1: Construir o dicionário de atualização dinamicamente ---\n",
    "    # É uma boa prática não atualizar a chave usada na condição do merge (consumo_id)\n",
    "    update_set_dict = {\n",
    "        col: F.col(f\"source.{col}\") \n",
    "        for col in df_consumos.columns \n",
    "        if col not in [\"consumo_id\", \"update_date\"]\n",
    "    }\n",
    "    \n",
    "    # Adiciona a coluna de data da atualização ao dicionário\n",
    "    update_set_dict[\"update_date\"] = current_date()\n",
    "    \n",
    "    # --- ETAPA 2: Executar o MERGE com o dicionário pronto ---\n",
    "    delta_table = DeltaTable.forName(spark, catalog_table)\n",
    "\n",
    "    print(\"Tabela Delta encontrada. Executando merge...\")\n",
    "    (delta_table.alias(\"target\")\n",
    "        .merge(\n",
    "            df_consumos.alias(\"source\"),\n",
    "            \"target.consumo_id = source.consumo_id\"\n",
    "        )\n",
    "        .whenMatchedUpdate(\n",
    "            set=update_set_dict # Passa o dicionário completo e corrigido\n",
    "        )\n",
    "        .whenNotMatchedInsertAll()\n",
    "        .execute()\n",
    "    )\n",
    "    \n",
    "    print(f\"Merge na tabela {catalog_table} concluído com sucesso.\")\n",
    "\n",
    "except Exception as e:\n",
    "    # Se a tabela não existir (ou não for Delta), faz a carga inicial\n",
    "    # A exceção mais comum na primeira vez é 'DeltaTable' não encontrada\n",
    "    print(f\"Tabela '{catalog_table}' não encontrada ou erro no merge. Realizando carga inicial.\")\n",
    "    #print(f\"Detalhe do erro: {e}\")\n",
    "    \n",
    "    df_consumos.write.format(\"delta\").mode(\"overwrite\").saveAsTable(catalog_table)\n",
    "    print(\"Carga inicial concluída com sucesso.\")\n"
   ]
  }
 ],
 "metadata": {
  "application/vnd.databricks.v1+notebook": {
   "computePreferences": null,
   "dashboards": [],
   "environmentMetadata": {
    "base_environment": "",
    "environment_version": "3"
   },
   "inputWidgetPreferences": null,
   "language": "python",
   "notebookMetadata": {
    "pythonIndentUnit": 4
   },
   "notebookName": "tb_cosumo",
   "widgets": {}
  },
  "language_info": {
   "name": "python"
  }
 },
 "nbformat": 4,
 "nbformat_minor": 0
}
